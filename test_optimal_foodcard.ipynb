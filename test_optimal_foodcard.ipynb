{
 "cells": [
  {
   "cell_type": "markdown",
   "metadata": {},
   "source": [
    "### Test funcion: Subset of prices that would be closer to card amount"
   ]
  },
  {
   "cell_type": "code",
   "execution_count": 1,
   "metadata": {},
   "outputs": [],
   "source": [
    "from optimal_foodcard import subset_sums\n",
    "import numpy as np\n",
    "import random\n",
    "import string"
   ]
  },
  {
   "cell_type": "code",
   "execution_count": 2,
   "metadata": {},
   "outputs": [
    {
     "name": "stdout",
     "output_type": "stream",
     "text": [
      "List of id - product - price:\n",
      "0 - uda - 1.87\n",
      "1 - xih - 4.75\n",
      "2 - hex - 3.66\n",
      "3 - dvx - 2.99\n",
      "4 - rcs - 0.78\n",
      "5 - nba - 0.78\n",
      "6 - cgh - 0.29\n",
      "7 - qta - 4.33\n",
      "8 - rgw - 3.01\n",
      "9 - uwr - 3.54\n"
     ]
    }
   ],
   "source": [
    "# array of N random products and prices (numbers betwen 0 and 5)\n",
    "random.seed(42)\n",
    "np.random.seed(42)\n",
    "\n",
    "N = 10\n",
    "prices = np.random.rand(N)*5\n",
    "prices = list(np.around(prices,2))\n",
    "letters = string.ascii_lowercase\n",
    "products = [''.join(random.choice(letters) for i in range(3)) for _ in range(N)]\n",
    "\n",
    "print(f\"List of id - product - price:\")\n",
    "for id, (prod, price) in enumerate(zip(products, prices)):\n",
    "   print(f'{id} - {prod} - {price}')\n"
   ]
  },
  {
   "cell_type": "code",
   "execution_count": 8,
   "metadata": {},
   "outputs": [
    {
     "name": "stdout",
     "output_type": "stream",
     "text": [
      "\n",
      " #1 Optimal purchase: (10.03, [('uda', 1.87), ('cgh', 0.29), ('qta', 4.33), ('uwr', 3.54)])\n",
      "\n",
      " #2 Optimal purchase: (10.08, [('uda', 1.87), ('hex', 3.66), ('dvx', 2.99), ('rcs', 0.78), ('nba', 0.78)])\n",
      "\n",
      " #3 Optimal purchase: (10.1, [('uda', 1.87), ('hex', 3.66), ('rcs', 0.78), ('nba', 0.78), ('rgw', 3.01)])\n"
     ]
    }
   ],
   "source": [
    "optimal_purchase = subset_sums(products, prices)\n",
    "\n",
    "for i, lst in enumerate(optimal_purchase):\n",
    "    print(f\"\\n #{i+1} Optimal purchase: {lst}\")"
   ]
  }
 ],
 "metadata": {
  "interpreter": {
   "hash": "af54d8ffe8b61cab9e1bcfcc3a5e2eeb6c71d1475cf011cf65945131006eac57"
  },
  "kernelspec": {
   "display_name": "Python 3.9.5 64-bit ('base': conda)",
   "language": "python",
   "name": "python3"
  },
  "language_info": {
   "codemirror_mode": {
    "name": "ipython",
    "version": 3
   },
   "file_extension": ".py",
   "mimetype": "text/x-python",
   "name": "python",
   "nbconvert_exporter": "python",
   "pygments_lexer": "ipython3",
   "version": "3.9.6"
  },
  "orig_nbformat": 4
 },
 "nbformat": 4,
 "nbformat_minor": 2
}
